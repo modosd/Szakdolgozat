{
 "cells": [
  {
   "cell_type": "code",
   "execution_count": 23,
   "metadata": {},
   "outputs": [],
   "source": [
    "from keras.layers import Input, Dense, Conv2D, MaxPooling2D, UpSampling2D\n",
    "from keras.models import Model\n",
    "from keras import backend as K\n",
    "\n",
    "input_img = Input(shape=(28, 28, 1))  # adapt this if using `channels_first` image data format\n",
    "\n",
    "x = Conv2D(16, (3, 3), activation='relu', padding='same')(input_img)\n",
    "x = MaxPooling2D((2, 2), padding='same')(x)\n",
    "x = Conv2D(8, (3, 3), activation='relu', padding='same')(x)\n",
    "x = MaxPooling2D((2, 2), padding='same')(x)\n",
    "x = Conv2D(8, (3, 3), activation='relu', padding='same')(x)\n",
    "encoded = MaxPooling2D((2, 2), padding='same')(x)\n",
    "\n",
    "# at this point the representation is (4, 4, 8) i.e. 128-dimensional\n",
    "\n",
    "x = Conv2D(8, (3, 3), activation='relu', padding='same')(encoded)\n",
    "x = UpSampling2D((2, 2))(x)\n",
    "x = Conv2D(8, (3, 3), activation='relu', padding='same')(x)\n",
    "x = UpSampling2D((2, 2))(x)\n",
    "x = Conv2D(16, (3, 3), activation='relu')(x)\n",
    "x = UpSampling2D((2, 2))(x)\n",
    "decoded = Conv2D(1, (3, 3), activation='sigmoid', padding='same')(x)\n",
    "\n",
    "autoencoder = Model(input_img, decoded)\n",
    "autoencoder.compile(optimizer='adadelta', loss='binary_crossentropy')"
   ]
  },
  {
   "cell_type": "code",
   "execution_count": 24,
   "metadata": {},
   "outputs": [],
   "source": [
    "from keras.datasets import mnist\n",
    "import numpy as np\n",
    "\n",
    "(x_train, _), (x_test, _) = mnist.load_data()\n",
    "\n",
    "x_train = x_train.astype('float32') / 255.\n",
    "x_test = x_test.astype('float32') / 255.\n",
    "x_train = np.reshape(x_train, (len(x_train), 28, 28, 1))  # adapt this if using `channels_first` image data format\n",
    "x_test = np.reshape(x_test, (len(x_test), 28, 28, 1))  # adapt this if using `channels_first` image data format\n",
    "x_train = x_train[0:40000]"
   ]
  },
  {
   "cell_type": "code",
   "execution_count": 25,
   "metadata": {},
   "outputs": [
    {
     "name": "stdout",
     "output_type": "stream",
     "text": [
      "Train on 40000 samples, validate on 10000 samples\n",
      "Epoch 1/20\n",
      "40000/40000 [==============================] - 109s 3ms/step - loss: 0.2351 - val_loss: 0.1798\n",
      "Epoch 2/20\n",
      "40000/40000 [==============================] - 87s 2ms/step - loss: 0.1684 - val_loss: 0.1542\n",
      "Epoch 3/20\n",
      "40000/40000 [==============================] - 82s 2ms/step - loss: 0.1514 - val_loss: 0.1425\n",
      "Epoch 4/20\n",
      "40000/40000 [==============================] - 83s 2ms/step - loss: 0.1416 - val_loss: 0.1353\n",
      "Epoch 5/20\n",
      "40000/40000 [==============================] - 76s 2ms/step - loss: 0.1353 - val_loss: 0.1286\n",
      "Epoch 6/20\n",
      "40000/40000 [==============================] - 84s 2ms/step - loss: 0.1306 - val_loss: 0.1302\n",
      "Epoch 7/20\n",
      "40000/40000 [==============================] - 66s 2ms/step - loss: 0.1274 - val_loss: 0.1271\n",
      "Epoch 8/20\n",
      "40000/40000 [==============================] - 50s 1ms/step - loss: 0.1253 - val_loss: 0.1264\n",
      "Epoch 9/20\n",
      "40000/40000 [==============================] - 49s 1ms/step - loss: 0.1228 - val_loss: 0.1228\n",
      "Epoch 10/20\n",
      "40000/40000 [==============================] - 50s 1ms/step - loss: 0.1209 - val_loss: 0.1191\n",
      "Epoch 11/20\n",
      "40000/40000 [==============================] - 50s 1ms/step - loss: 0.1198 - val_loss: 0.1163\n",
      "Epoch 12/20\n",
      "40000/40000 [==============================] - 51s 1ms/step - loss: 0.1180 - val_loss: 0.1172\n",
      "Epoch 13/20\n",
      "40000/40000 [==============================] - 51s 1ms/step - loss: 0.1168 - val_loss: 0.1167\n",
      "Epoch 14/20\n",
      "40000/40000 [==============================] - 52s 1ms/step - loss: 0.1161 - val_loss: 0.1177\n",
      "Epoch 15/20\n",
      "40000/40000 [==============================] - 51s 1ms/step - loss: 0.1149 - val_loss: 0.1109\n",
      "Epoch 16/20\n",
      "40000/40000 [==============================] - 50s 1ms/step - loss: 0.1142 - val_loss: 0.1171\n",
      "Epoch 17/20\n",
      "40000/40000 [==============================] - 50s 1ms/step - loss: 0.1133 - val_loss: 0.1134\n",
      "Epoch 18/20\n",
      "40000/40000 [==============================] - 52s 1ms/step - loss: 0.1127 - val_loss: 0.1165\n",
      "Epoch 19/20\n",
      "40000/40000 [==============================] - 49s 1ms/step - loss: 0.1123 - val_loss: 0.1148\n",
      "Epoch 20/20\n",
      "40000/40000 [==============================] - 51s 1ms/step - loss: 0.1118 - val_loss: 0.1084\n"
     ]
    }
   ],
   "source": [
    "from keras.callbacks import TensorBoard\n",
    "\n",
    "history = autoencoder.fit(x_train, x_train,\n",
    "                epochs=20,\n",
    "                batch_size=128,\n",
    "                shuffle=True,\n",
    "                validation_data=(x_test, x_test))"
   ]
  },
  {
   "cell_type": "code",
   "execution_count": 26,
   "metadata": {},
   "outputs": [
    {
     "data": {
      "text/plain": [
       "[0, 20, 0.09, 0.3]"
      ]
     },
     "execution_count": 26,
     "metadata": {},
     "output_type": "execute_result"
    },
    {
     "data": {
      "image/png": "[encoded data removed]",
      "text/plain": [
       "<Figure size 720x720 with 1 Axes>"
      ]
     },
     "metadata": {
      "needs_background": "light"
     },
     "output_type": "display_data"
    }
   ],
   "source": [
    "import pandas as pd\n",
    "import matplotlib.pyplot as plt\n",
    "\n",
    "pd.DataFrame(history.history).plot(figsize=(8, 8))\n",
    "plt.axis([0, 20, 0.09, 0.3])"
   ]
  },
  {
   "cell_type": "code",
   "execution_count": null,
   "metadata": {},
   "outputs": [],
   "source": []
  }
 ],
 "metadata": {
  "kernelspec": {
   "display_name": "Python 3",
   "language": "python",
   "name": "python3"
  },
  "language_info": {
   "codemirror_mode": {
    "name": "ipython",
    "version": 3
   },
   "file_extension": ".py",
   "mimetype": "text/x-python",
   "name": "python",
   "nbconvert_exporter": "python",
   "pygments_lexer": "ipython3",
   "version": "3.7.6"
  },
  "toc": {
   "base_numbering": 1,
   "nav_menu": {},
   "number_sections": true,
   "sideBar": true,
   "skip_h1_title": false,
   "title_cell": "Table of Contents",
   "title_sidebar": "Contents",
   "toc_cell": false,
   "toc_position": {},
   "toc_section_display": true,
   "toc_window_display": false
  }
 },
 "nbformat": 4,
 "nbformat_minor": 4
}
