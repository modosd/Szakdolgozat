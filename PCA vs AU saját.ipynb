{
 "cells": [
  {
   "cell_type": "code",
   "execution_count": 1,
   "metadata": {},
   "outputs": [],
   "source": [
    "#add necessary libraries\n",
    "import matplotlib.pyplot as plt #plotting\n",
    "import pandas as pd\n",
    "import numpy as np\n",
    "\n",
    "import os\n",
    "\n",
    "# Import required libraries\n",
    "from sklearn.decomposition import PCA\n",
    "\n",
    "import torch\n",
    "import torch.nn as nn\n",
    "import torch.utils.data\n",
    "\n",
    "from mpl_toolkits import mplot3d\n",
    "\n",
    "%matplotlib inline"
   ]
  },
  {
   "cell_type": "code",
   "execution_count": 2,
   "metadata": {},
   "outputs": [],
   "source": [
    "np.random.seed(112)\n"
   ]
  },
  {
   "cell_type": "code",
   "execution_count": 3,
   "metadata": {},
   "outputs": [],
   "source": [
    "class autoencoder(nn.Module):\n",
    "    def __init__(self,inputD,encoding_dim):\n",
    "        super(autoencoder, self).__init__()\n",
    "        \n",
    "        self.encoder = nn.Sequential()\n",
    "        \n",
    "        self.encoder.add_module(\"enc_0\", nn.Linear(inputD,encoding_dim[0]))\n",
    "        self.encoder.add_module(\"relu_0\", nn.ReLU())\n",
    "          \n",
    "        for l in range(1,len(encoding_dim)):\n",
    "            self.encoder.add_module(\"enc_\"+str(l), nn.Linear(encoding_dim[l-1],encoding_dim[l]))\n",
    "            self.encoder.add_module(\"encBn_\"+str(l),nn.BatchNorm1d(encoding_dim[l]))\n",
    "            self.encoder.add_module(\"encrelu_\"+str(l), nn.ReLU())\n",
    "                                    \n",
    "        self.decoder = nn.Sequential()\n",
    "        \n",
    "        for l in range(len(encoding_dim)-1,0,-1):\n",
    "            self.decoder.add_module(\"dec_\"+str(l), nn.Linear(encoding_dim[l],encoding_dim[l-1]))\n",
    "            self.decoder.add_module(\"decBn_\"+str(l),nn.BatchNorm1d(encoding_dim[l-1]))\n",
    "            self.decoder.add_module(\"decrelu_\"+str(l), nn.ReLU())\n",
    "            \n",
    "        self.decoder.add_module(\"dec_0\", nn.Linear(encoding_dim[0],inputD))\n",
    "        self.decoder.add_module(\"decrelu_0\", nn.Sigmoid())\n",
    "        \n",
    "        self.encoder.apply(self.init_weights)\n",
    "        self.decoder.apply(self.init_weights)\n",
    "\n",
    "    def forward(self, x):\n",
    "        x = self.encoder(x)\n",
    "        x = self.decoder(x)\n",
    "        return x\n",
    "    \n",
    "    def init_weights(self,m):\n",
    "        if type(m) == nn.Linear:\n",
    "            nn.init.xavier_uniform_(m.weight)\n",
    "            m.bias.data.fill_(0.01)\n",
    "    \n",
    "    def representation(self, x):\n",
    "        x = self.encoder(x)\n",
    "        return "
   ]
  },
  {
   "cell_type": "code",
   "execution_count": 4,
   "metadata": {},
   "outputs": [],
   "source": [
    "def testAutoEncoderFit(matrix, encoding_dim,three_D=False,scatter=False):\n",
    "    matrixtensor = torch.tensor(matrix).float()\n",
    "    \n",
    "    input_dim = matrix.shape[1]\n",
    "    model = autoencoder(input_dim,encoding_dim).cuda()\n",
    "    \n",
    "    criterion = nn.BCELoss()\n",
    "    optimizer = torch.optim.Adam(model.parameters(), lr=learning_rate, weight_decay=1e-5)\n",
    "    \n",
    "    \n",
    "    data_tensor = torch.utils.data.TensorDataset(matrixtensor, matrixtensor) \n",
    "    dataloader = torch.utils.data.DataLoader(dataset = data_tensor, batch_size = batch_size, shuffle = True)\n",
    "    \n",
    "    for epoch in range(num_epochs):\n",
    "        for data in dataloader:\n",
    "            X, _ = data\n",
    "            X = X.cuda()\n",
    "            # ===================forward=====================\n",
    "            output = model(X)\n",
    "            loss = criterion(output, X)\n",
    "            MSE_loss = nn.MSELoss()(output, X)\n",
    "            # ===================backward====================\n",
    "            optimizer.zero_grad()\n",
    "            loss.backward()\n",
    "            optimizer.step()\n",
    "        # ===================log========================\n",
    "#         print('epoch [{}/{}], loss:{:.4f}, MSE_loss:{:.4f}'\n",
    "#             .format(epoch + 1, num_epochs, loss.item(), MSE_loss.item()))   \n",
    "    \n",
    "    with torch.no_grad():\n",
    "        reconMatrixAE = model(matrixtensor.cuda()).cpu().numpy()\n",
    "    reconCostAE = np.mean(np.power(reconMatrixAE - matrix,2),axis = 1)\n",
    "    reconCostAE = reconCostAE.reshape(-1, 1)\n",
    "    \n",
    "    \n",
    "    if three_D:\n",
    "        if scatter:\n",
    "            fig = plt.figure()\n",
    "            ax = plt.axes(projection='3d')\n",
    "            #ax.plot_wireframe(matrix[:,0],matrix[:,1],matrix[:,2])\n",
    "            ax.scatter3D(reconMatrixAE[:,0],reconMatrixAE[:,1],reconMatrixAE[:,2])\n",
    "            \n",
    "        else:\n",
    "            X = reconMatrixAE[:,0].reshape(samples,samples)\n",
    "            Y = reconMatrixAE[:,1].reshape(samples,samples)\n",
    "            Z = reconMatrixAE[:,2].reshape(samples,samples)\n",
    "\n",
    "            fig = plt.figure()\n",
    "            ax = plt.axes(projection='3d')\n",
    "            ax.plot_wireframe(X,Y,Z)\n",
    "    else:\n",
    "        plt.plot(reconMatrixAE[:,0],reconMatrixAE[:,1])\n",
    "    \n",
    "    \n",
    "    print('Reconstruction MSE : ',np.mean(reconCostAE))\n",
    "    return np.mean(reconCostAE)"
   ]
  },
  {
   "cell_type": "code",
   "execution_count": 5,
   "metadata": {},
   "outputs": [],
   "source": [
    "def testPCAFit(matrix,n,three_D=False,scatter=False):\n",
    "    pca = PCA(n_components=n)\n",
    "    pca.fit(matrix)\n",
    "\n",
    "    reducedMatrixPCA = pca.transform(matrix)\n",
    "\n",
    "    reconMatrixPCA = pca.inverse_transform(reducedMatrixPCA)\n",
    "    reconCostPCA = np.mean(np.power(reconMatrixPCA - matrix,2),axis = 1)\n",
    "    reconCostPCA = reconCostPCA.reshape(-1, 1)\n",
    "    print('Reconstruction MSE : ',np.mean(reconCostPCA))\n",
    "    \n",
    "    if three_D:\n",
    "        if scatter:\n",
    "            fig = plt.figure()\n",
    "            ax = plt.axes(projection='3d')\n",
    "            #ax.plot_wireframe(matrix[:,0],matrix[:,1],matrix[:,2])\n",
    "            ax.scatter3D(reconMatrixPCA[:,0],reconMatrixPCA[:,1],reconMatrixPCA[:,2])\n",
    "        else:\n",
    "            X = reconMatrixPCA[:,0].reshape(samples,samples)\n",
    "            Y = reconMatrixPCA[:,1].reshape(samples,samples)\n",
    "            Z = reconMatrixPCA[:,2].reshape(samples,samples)\n",
    "\n",
    "            fig = plt.figure()\n",
    "            ax = plt.axes(projection='3d')\n",
    "            ax.plot_wireframe(X,Y,Z)\n",
    "    else:\n",
    "        plt.plot(reconMatrixPCA[:,0],reconMatrixPCA[:,1])\n",
    "    \n",
    "    return np.mean(reconCostPCA)"
   ]
  },
  {
   "cell_type": "markdown",
   "metadata": {},
   "source": [
    "# linear Case"
   ]
  },
  {
   "cell_type": "code",
   "execution_count": 6,
   "metadata": {},
   "outputs": [],
   "source": [
    "encoding_dim = [100,50,1]\n",
    "learning_rate=0.0001\n",
    "batch_size = 100\n",
    "num_epochs = 1000"
   ]
  },
  {
   "cell_type": "code",
   "execution_count": 7,
   "metadata": {},
   "outputs": [
    {
     "data": {
      "text/plain": [
       "(1000, 2)"
      ]
     },
     "execution_count": 7,
     "metadata": {},
     "output_type": "execute_result"
    }
   ],
   "source": [
    "\n",
    "samples = 1000\n",
    "matrix = np.empty((samples,2))\n",
    "matrix[:,0] = np.linspace(0,1000,samples)\n",
    "matrix[:,1] = 2*matrix[:,0] + 20\n",
    "#matrix = matrix + 10 * np.random.normal(size=matrix.shape)\n",
    "input_dim = matrix.shape[1]\n",
    "matrix.shape"
   ]
  },
  {
   "cell_type": "code",
   "execution_count": 8,
   "metadata": {},
   "outputs": [],
   "source": [
    "\n",
    "for i in range(matrix.shape[1]):\n",
    "    matrix[:, i] = (matrix[:, i] - matrix[:, i].min()) / (matrix[:, i].max() - matrix[:, i].min())"
   ]
  },
  {
   "cell_type": "code",
   "execution_count": 9,
   "metadata": {},
   "outputs": [
    {
     "data": {
      "text/plain": [
       "[<matplotlib.lines.Line2D at 0x143e35a63c8>]"
      ]
     },
     "execution_count": 9,
     "metadata": {},
     "output_type": "execute_result"
    },
    {
     "data": {
      "image/png": "[encoded data removed]",
      "text/plain": [
       "<Figure size 432x288 with 1 Axes>"
      ]
     },
     "metadata": {
      "needs_background": "light"
     },
     "output_type": "display_data"
    }
   ],
   "source": [
    "plt.plot(matrix[:,0],matrix[:,1])"
   ]
  },
  {
   "cell_type": "code",
   "execution_count": 10,
   "metadata": {},
   "outputs": [
    {
     "name": "stdout",
     "output_type": "stream",
     "text": [
      "Reconstruction MSE :  5.337224776320565e-05\n"
     ]
    },
    {
     "data": {
      "text/plain": [
       "5.337224776320565e-05"
      ]
     },
     "execution_count": 10,
     "metadata": {},
     "output_type": "execute_result"
    },
    {
     "data": {
      "image/png": "[encoded data removed]",
      "text/plain": [
       "<Figure size 432x288 with 1 Axes>"
      ]
     },
     "metadata": {
      "needs_background": "light"
     },
     "output_type": "display_data"
    }
   ],
   "source": [
    "testAutoEncoderFit(matrix,encoding_dim)"
   ]
  },
  {
   "cell_type": "code",
   "execution_count": 11,
   "metadata": {},
   "outputs": [
    {
     "name": "stdout",
     "output_type": "stream",
     "text": [
      "Reconstruction MSE :  3.795687997844722e-33\n"
     ]
    },
    {
     "data": {
      "text/plain": [
       "3.795687997844722e-33"
      ]
     },
     "execution_count": 11,
     "metadata": {},
     "output_type": "execute_result"
    },
    {
     "data": {
      "image/png": "[encoded data removed]",
      "text/plain": [
       "<Figure size 432x288 with 1 Axes>"
      ]
     },
     "metadata": {
      "needs_background": "light"
     },
     "output_type": "display_data"
    }
   ],
   "source": [
    "testPCAFit(matrix,1)"
   ]
  },
  {
   "cell_type": "markdown",
   "metadata": {},
   "source": [
    "# NON linear\n"
   ]
  },
  {
   "cell_type": "code",
   "execution_count": 12,
   "metadata": {},
   "outputs": [
    {
     "data": {
      "text/plain": [
       "(1000, 2)"
      ]
     },
     "execution_count": 12,
     "metadata": {},
     "output_type": "execute_result"
    }
   ],
   "source": [
    "samples = 1000\n",
    "matrix = np.empty((samples,2))\n",
    "matrix[:,0] = np.linspace(0,1000,samples)\n",
    "matrix[:,1] = matrix[:,0]**2 + 20\n",
    "#matrix = matrix + 10 * np.random.normal(size=matrix.shape)\n",
    "matrix.shape"
   ]
  },
  {
   "cell_type": "code",
   "execution_count": 13,
   "metadata": {},
   "outputs": [],
   "source": [
    "for i in range(matrix.shape[1]):\n",
    "    matrix[:, i] = (matrix[:, i] - matrix[:, i].min()) / (matrix[:, i].max() - matrix[:, i].min())"
   ]
  },
  {
   "cell_type": "code",
   "execution_count": 14,
   "metadata": {},
   "outputs": [
    {
     "data": {
      "text/plain": [
       "[<matplotlib.lines.Line2D at 0x143e364cd48>]"
      ]
     },
     "execution_count": 14,
     "metadata": {},
     "output_type": "execute_result"
    },
    {
     "data": {
      "image/png": "[encoded data removed]",
      "text/plain": [
       "<Figure size 432x288 with 1 Axes>"
      ]
     },
     "metadata": {
      "needs_background": "light"
     },
     "output_type": "display_data"
    }
   ],
   "source": [
    "plt.plot(matrix[:,0],matrix[:,1])"
   ]
  },
  {
   "cell_type": "code",
   "execution_count": null,
   "metadata": {},
   "outputs": [],
   "source": [
    "testAutoEncoderFit(matrix,encoding_dim)"
   ]
  },
  {
   "cell_type": "code",
   "execution_count": null,
   "metadata": {},
   "outputs": [],
   "source": [
    "testPCAFit(matrix,1)"
   ]
  },
  {
   "cell_type": "markdown",
   "metadata": {},
   "source": [
    "# More curvature"
   ]
  },
  {
   "cell_type": "code",
   "execution_count": null,
   "metadata": {},
   "outputs": [],
   "source": [
    "samples = 1000\n",
    "matrix = np.empty((samples,2))\n",
    "matrix[:,0] = np.linspace(0,1000,samples)\n",
    "matrix[:,1] = matrix[:,0]**6 + 20\n",
    "#matrix = matrix + 10 * np.random.normal(size=matrix.shape)\n",
    "matrix.shape"
   ]
  },
  {
   "cell_type": "code",
   "execution_count": null,
   "metadata": {},
   "outputs": [],
   "source": [
    "for i in range(matrix.shape[1]):\n",
    "    matrix[:, i] = (matrix[:, i] - matrix[:, i].min()) / (matrix[:, i].max() - matrix[:, i].min())"
   ]
  },
  {
   "cell_type": "code",
   "execution_count": null,
   "metadata": {},
   "outputs": [],
   "source": [
    "plt.plot(matrix[:,0],matrix[:,1])"
   ]
  },
  {
   "cell_type": "code",
   "execution_count": null,
   "metadata": {},
   "outputs": [],
   "source": [
    "testAutoEncoderFit(matrix,encoding_dim)"
   ]
  },
  {
   "cell_type": "code",
   "execution_count": null,
   "metadata": {},
   "outputs": [],
   "source": [
    "testPCAFit(matrix,1)"
   ]
  },
  {
   "cell_type": "code",
   "execution_count": null,
   "metadata": {},
   "outputs": [],
   "source": []
  },
  {
   "cell_type": "markdown",
   "metadata": {},
   "source": [
    "# Plane example"
   ]
  },
  {
   "cell_type": "code",
   "execution_count": null,
   "metadata": {},
   "outputs": [],
   "source": [
    "samples = 30\n",
    "x = np.linspace(0,1,samples)\n",
    "y = x\n",
    "X,Y = np.meshgrid(x,y)\n",
    "Z = Y + X+ 20\n",
    "\n",
    "fig = plt.figure()\n",
    "ax = plt.axes(projection='3d')\n",
    "ax.plot_wireframe(X,Y,Z)\n",
    "#ax.scatter3D(X, Y, Z)"
   ]
  },
  {
   "cell_type": "code",
   "execution_count": null,
   "metadata": {},
   "outputs": [],
   "source": [
    "\n",
    "matrix = np.empty((samples*samples,3))\n",
    "matrix[:,0] = X.reshape(samples*samples)\n",
    "matrix[:,1] = Y.reshape(samples*samples)\n",
    "matrix[:,2] = Z.reshape(samples*samples)\n",
    "for i in range(matrix.shape[1]):\n",
    "    matrix[:, i] = (matrix[:, i] - matrix[:, i].min()) / (matrix[:, i].max() - matrix[:, i].min())"
   ]
  },
  {
   "cell_type": "code",
   "execution_count": null,
   "metadata": {},
   "outputs": [],
   "source": [
    "testPCAFit(matrix,2,True)"
   ]
  },
  {
   "cell_type": "code",
   "execution_count": null,
   "metadata": {},
   "outputs": [],
   "source": [
    "\n",
    "encoding_dim = [100,30,2]\n",
    "learning_rate=0.0001\n",
    "batch_size = 100\n",
    "num_epochs = 1000\n",
    "testAutoEncoderFit(matrix,encoding_dim,True)"
   ]
  },
  {
   "cell_type": "markdown",
   "metadata": {},
   "source": [
    "# Curved Surface¶\n"
   ]
  },
  {
   "cell_type": "code",
   "execution_count": null,
   "metadata": {},
   "outputs": [],
   "source": [
    "samples = 30\n",
    "x = np.linspace(0,1,samples)\n",
    "y = x\n",
    "X,Y = np.meshgrid(x,y)\n",
    "Z = Y**4 + X**4+ 20\n",
    "\n",
    "fig = plt.figure()\n",
    "ax = plt.axes(projection='3d')\n",
    "ax.plot_wireframe(X,Y,Z)\n",
    "#ax.scatter3D(X, Y, Z)"
   ]
  },
  {
   "cell_type": "code",
   "execution_count": null,
   "metadata": {},
   "outputs": [],
   "source": [
    "matrix = np.empty((samples*samples,3))\n",
    "matrix[:,0] = X.reshape(samples*samples)\n",
    "matrix[:,1] = Y.reshape(samples*samples)\n",
    "matrix[:,2] = Z.reshape(samples*samples)\n",
    "for i in range(matrix.shape[1]):\n",
    "    matrix[:, i] = (matrix[:, i] - matrix[:, i].min()) / (matrix[:, i].max() - matrix[:, i].min())"
   ]
  },
  {
   "cell_type": "code",
   "execution_count": null,
   "metadata": {},
   "outputs": [],
   "source": [
    "\n",
    "testPCAFit(matrix,2,True)"
   ]
  },
  {
   "cell_type": "code",
   "execution_count": null,
   "metadata": {},
   "outputs": [],
   "source": [
    "encoding_dim = [100,30,2]\n",
    "learning_rate=0.0001\n",
    "batch_size = 100\n",
    "num_epochs = 1000\n",
    "testAutoEncoderFit(matrix,encoding_dim,True)"
   ]
  },
  {
   "cell_type": "markdown",
   "metadata": {},
   "source": [
    "# Random"
   ]
  },
  {
   "cell_type": "code",
   "execution_count": null,
   "metadata": {},
   "outputs": [],
   "source": []
  },
  {
   "cell_type": "code",
   "execution_count": null,
   "metadata": {},
   "outputs": [],
   "source": [
    "\n",
    "samples = 500\n",
    "matrix = np.random.uniform(low=0,high=1,size=(samples,3))\n",
    "\n",
    "fig = plt.figure()\n",
    "ax = plt.axes(projection='3d')\n",
    "ax.scatter3D(matrix[:,0],matrix[:,1],matrix[:,2])"
   ]
  },
  {
   "cell_type": "code",
   "execution_count": null,
   "metadata": {},
   "outputs": [],
   "source": [
    "testPCAFit(matrix,2,True,scatter=True)"
   ]
  },
  {
   "cell_type": "code",
   "execution_count": null,
   "metadata": {},
   "outputs": [],
   "source": [
    "encoding_dim = [100,30,2]\n",
    "learning_rate=0.001\n",
    "batch_size = 100\n",
    "num_epochs = 100\n",
    "testAutoEncoderFit(matrix,encoding_dim,True,scatter=True)"
   ]
  },
  {
   "cell_type": "code",
   "execution_count": null,
   "metadata": {},
   "outputs": [],
   "source": []
  },
  {
   "cell_type": "code",
   "execution_count": null,
   "metadata": {},
   "outputs": [],
   "source": []
  },
  {
   "cell_type": "code",
   "execution_count": null,
   "metadata": {},
   "outputs": [],
   "source": []
  }
 ],
 "metadata": {
  "kernelspec": {
   "display_name": "Python 3",
   "language": "python",
   "name": "python3"
  },
  "language_info": {
   "codemirror_mode": {
    "name": "ipython",
    "version": 3
   },
   "file_extension": ".py",
   "mimetype": "text/x-python",
   "name": "python",
   "nbconvert_exporter": "python",
   "pygments_lexer": "ipython3",
   "version": "3.7.7"
  }
 },
 "nbformat": 4,
 "nbformat_minor": 4
}
