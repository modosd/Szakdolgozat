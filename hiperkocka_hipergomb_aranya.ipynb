{
 "cells": [
  {
   "cell_type": "code",
   "execution_count": 5,
   "metadata": {},
   "outputs": [],
   "source": [
    "import numpy as np \n",
    "from scipy.spatial.distance import euclidean\n",
    "import matplotlib.pyplot as plt"
   ]
  },
  {
   "cell_type": "code",
   "execution_count": 6,
   "metadata": {},
   "outputs": [],
   "source": [
    "def simulate(N=int(1e6), r=1, k=2):\n",
    "    unif = np.random.uniform(0, 1, size=(N, k))\n",
    "\n",
    "    count = 0\n",
    "    for i in range(N):\n",
    "        if euclidean(np.zeros((1,k)), unif[i]) < r:\n",
    "            count += 1\n",
    "\n",
    "    hypercube_volume = (2*r)**k \n",
    "\n",
    "    print(\"Volume of hypercube = {}\".format(hypercube_volume))\n",
    "    print(\"Fraction of points inside hypersphere = {}\".format(count / float(N)))\n",
    "    print(\"-----------------------------------------\")\n",
    "\n",
    "    return count / float(N)"
   ]
  },
  {
   "cell_type": "code",
   "execution_count": 20,
   "metadata": {},
   "outputs": [
    {
     "name": "stdout",
     "output_type": "stream",
     "text": [
      "k = 1\n",
      "Volume of hypercube = 2\n",
      "Fraction of points inside hypersphere = 1.0\n",
      "-----------------------------------------\n",
      "k = 2\n",
      "Volume of hypercube = 4\n",
      "Fraction of points inside hypersphere = 0.785557\n",
      "-----------------------------------------\n",
      "k = 3\n",
      "Volume of hypercube = 8\n",
      "Fraction of points inside hypersphere = 0.52367\n",
      "-----------------------------------------\n",
      "k = 4\n",
      "Volume of hypercube = 16\n",
      "Fraction of points inside hypersphere = 0.308264\n",
      "-----------------------------------------\n",
      "k = 5\n",
      "Volume of hypercube = 32\n",
      "Fraction of points inside hypersphere = 0.164943\n",
      "-----------------------------------------\n",
      "k = 6\n",
      "Volume of hypercube = 64\n",
      "Fraction of points inside hypersphere = 0.080573\n",
      "-----------------------------------------\n",
      "k = 7\n",
      "Volume of hypercube = 128\n",
      "Fraction of points inside hypersphere = 0.03727\n",
      "-----------------------------------------\n",
      "k = 8\n",
      "Volume of hypercube = 256\n",
      "Fraction of points inside hypersphere = 0.015862\n",
      "-----------------------------------------\n",
      "k = 9\n",
      "Volume of hypercube = 512\n",
      "Fraction of points inside hypersphere = 0.006294\n",
      "-----------------------------------------\n",
      "k = 10\n",
      "Volume of hypercube = 1024\n",
      "Fraction of points inside hypersphere = 0.00254\n",
      "-----------------------------------------\n",
      "k = 11\n",
      "Volume of hypercube = 2048\n",
      "Fraction of points inside hypersphere = 0.000913\n",
      "-----------------------------------------\n",
      "k = 12\n",
      "Volume of hypercube = 4096\n",
      "Fraction of points inside hypersphere = 0.000327\n",
      "-----------------------------------------\n",
      "k = 13\n",
      "Volume of hypercube = 8192\n",
      "Fraction of points inside hypersphere = 0.000109\n",
      "-----------------------------------------\n",
      "k = 14\n",
      "Volume of hypercube = 16384\n",
      "Fraction of points inside hypersphere = 3.5e-05\n",
      "-----------------------------------------\n",
      "k = 15\n",
      "Volume of hypercube = 32768\n",
      "Fraction of points inside hypersphere = 1.6e-05\n",
      "-----------------------------------------\n",
      "k = 16\n",
      "Volume of hypercube = 65536\n",
      "Fraction of points inside hypersphere = 5e-06\n",
      "-----------------------------------------\n",
      "k = 17\n",
      "Volume of hypercube = 131072\n",
      "Fraction of points inside hypersphere = 1e-06\n",
      "-----------------------------------------\n",
      "k = 18\n",
      "Volume of hypercube = 262144\n",
      "Fraction of points inside hypersphere = 3e-06\n",
      "-----------------------------------------\n",
      "k = 19\n",
      "Volume of hypercube = 524288\n",
      "Fraction of points inside hypersphere = 0.0\n",
      "-----------------------------------------\n"
     ]
    },
    {
     "data": {
      "image/png": "[encoded data removed]",
      "text/plain": [
       "<Figure size 720x720 with 1 Axes>"
      ]
     },
     "metadata": {
      "needs_background": "light"
     },
     "output_type": "display_data"
    }
   ],
   "source": [
    "K = range(1, 20)\n",
    "\n",
    "lst = []\n",
    "for k in K:\n",
    "    print(\"k = {}\".format(k))\n",
    "    frac = simulate(k=k)\n",
    "    lst.append(frac)\n",
    "\n",
    "\n",
    "plt.figure(figsize=(10, 10))\n",
    "    \n",
    "plt.plot(lst)\n",
    "plt.xlabel(\"Dimenzók száma\")\n",
    "plt.ylabel(\"A hiperkocka és a hipergömb aránya\")\n",
    "plt.show()"
   ]
  },
  {
   "cell_type": "code",
   "execution_count": null,
   "metadata": {},
   "outputs": [],
   "source": []
  },
  {
   "cell_type": "code",
   "execution_count": null,
   "metadata": {},
   "outputs": [],
   "source": []
  }
 ],
 "metadata": {
  "kernelspec": {
   "display_name": "Python 3",
   "language": "python",
   "name": "python3"
  },
  "language_info": {
   "codemirror_mode": {
    "name": "ipython",
    "version": 3
   },
   "file_extension": ".py",
   "mimetype": "text/x-python",
   "name": "python",
   "nbconvert_exporter": "python",
   "pygments_lexer": "ipython3",
   "version": "3.7.6"
  },
  "toc": {
   "base_numbering": 1,
   "nav_menu": {},
   "number_sections": true,
   "sideBar": true,
   "skip_h1_title": false,
   "title_cell": "Table of Contents",
   "title_sidebar": "Contents",
   "toc_cell": false,
   "toc_position": {},
   "toc_section_display": true,
   "toc_window_display": false
  }
 },
 "nbformat": 4,
 "nbformat_minor": 4
}
