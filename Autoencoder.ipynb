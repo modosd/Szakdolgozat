{
 "cells": [
  {
   "cell_type": "code",
   "execution_count": 1,
   "metadata": {},
   "outputs": [
    {
     "name": "stderr",
     "output_type": "stream",
     "text": [
      "Using TensorFlow backend.\n"
     ]
    }
   ],
   "source": [
    "from keras.layers import Input, Dense, Conv2D, MaxPooling2D, UpSampling2D\n",
    "from keras.models import Model\n",
    "from keras import backend as K\n",
    "\n",
    "input_img = Input(shape=(28, 28, 1))  # adapt this if using `channels_first` image data format\n",
    "\n",
    "x = Conv2D(16, (3, 3), activation='relu', padding='same')(input_img)\n",
    "x = MaxPooling2D((2, 2), padding='same')(x)\n",
    "x = Conv2D(8, (3, 3), activation='relu', padding='same')(x)\n",
    "x = MaxPooling2D((2, 2), padding='same')(x)\n",
    "x = Conv2D(8, (3, 3), activation='relu', padding='same')(x)\n",
    "encoded = MaxPooling2D((2, 2), padding='same')(x)\n",
    "\n",
    "# at this point the representation is (4, 4, 8) i.e. 128-dimensional\n",
    "\n",
    "x = Conv2D(8, (3, 3), activation='relu', padding='same')(encoded)\n",
    "x = UpSampling2D((2, 2))(x)\n",
    "x = Conv2D(8, (3, 3), activation='relu', padding='same')(x)\n",
    "x = UpSampling2D((2, 2))(x)\n",
    "x = Conv2D(16, (3, 3), activation='relu')(x)\n",
    "x = UpSampling2D((2, 2))(x)\n",
    "decoded = Conv2D(1, (3, 3), activation='sigmoid', padding='same')(x)\n",
    "\n",
    "autoencoder = Model(input_img, decoded)\n",
    "autoencoder.compile(optimizer='adadelta', loss='binary_crossentropy')"
   ]
  },
  {
   "cell_type": "code",
   "execution_count": 2,
   "metadata": {},
   "outputs": [],
   "source": [
    "from keras.datasets import mnist\n",
    "import numpy as np\n",
    "\n",
    "(x_train, _), (x_test, _) = mnist.load_data()\n",
    "\n",
    "x_train = x_train.astype('float32') / 255.\n",
    "x_test = x_test.astype('float32') / 255.\n",
    "x_train = np.reshape(x_train, (len(x_train), 28, 28, 1))  # adapt this if using `channels_first` image data format\n",
    "x_test = np.reshape(x_test, (len(x_test), 28, 28, 1))  # adapt this if using `channels_first` image data format\n",
    "x_train = x_train[0:15000]"
   ]
  },
  {
   "cell_type": "code",
   "execution_count": 3,
   "metadata": {},
   "outputs": [
    {
     "name": "stdout",
     "output_type": "stream",
     "text": [
      "Train on 15000 samples, validate on 10000 samples\n",
      "Epoch 1/20\n",
      "15000/15000 [==============================] - 42s 3ms/step - loss: 0.2865 - val_loss: 0.2114\n",
      "Epoch 2/20\n",
      "15000/15000 [==============================] - 61s 4ms/step - loss: 0.1994 - val_loss: 0.1849\n",
      "Epoch 3/20\n",
      "15000/15000 [==============================] - 87s 6ms/step - loss: 0.1820 - val_loss: 0.1724\n",
      "Epoch 4/20\n",
      "15000/15000 [==============================] - 85s 6ms/step - loss: 0.1711 - val_loss: 0.1653\n",
      "Epoch 5/20\n",
      "15000/15000 [==============================] - 88s 6ms/step - loss: 0.1631 - val_loss: 0.1667\n",
      "Epoch 6/20\n",
      "15000/15000 [==============================] - 95s 6ms/step - loss: 0.1560 - val_loss: 0.1508\n",
      "Epoch 7/20\n",
      "15000/15000 [==============================] - 77s 5ms/step - loss: 0.1509 - val_loss: 0.1526\n",
      "Epoch 8/20\n",
      "15000/15000 [==============================] - 75s 5ms/step - loss: 0.1459 - val_loss: 0.1425\n",
      "Epoch 9/20\n",
      "15000/15000 [==============================] - 77s 5ms/step - loss: 0.1431 - val_loss: 0.1460\n",
      "Epoch 10/20\n",
      "15000/15000 [==============================] - 95s 6ms/step - loss: 0.1396 - val_loss: 0.1390\n",
      "Epoch 11/20\n",
      "15000/15000 [==============================] - 89s 6ms/step - loss: 0.1376 - val_loss: 0.1367\n",
      "Epoch 12/20\n",
      "15000/15000 [==============================] - 90s 6ms/step - loss: 0.1354 - val_loss: 0.1349\n",
      "Epoch 13/20\n",
      "15000/15000 [==============================] - 86s 6ms/step - loss: 0.1334 - val_loss: 0.1336\n",
      "Epoch 14/20\n",
      "15000/15000 [==============================] - 88s 6ms/step - loss: 0.1318 - val_loss: 0.1284\n",
      "Epoch 15/20\n",
      "15000/15000 [==============================] - 84s 6ms/step - loss: 0.1305 - val_loss: 0.1300\n",
      "Epoch 16/20\n",
      "15000/15000 [==============================] - 104s 7ms/step - loss: 0.1292 - val_loss: 0.1260\n",
      "Epoch 17/20\n",
      "15000/15000 [==============================] - 68s 5ms/step - loss: 0.1276 - val_loss: 0.1253\n",
      "Epoch 18/20\n",
      "15000/15000 [==============================] - 77s 5ms/step - loss: 0.1262 - val_loss: 0.1291\n",
      "Epoch 19/20\n",
      "15000/15000 [==============================] - 97s 6ms/step - loss: 0.1254 - val_loss: 0.1275\n",
      "Epoch 20/20\n",
      "15000/15000 [==============================] - 76s 5ms/step - loss: 0.1247 - val_loss: 0.1256\n"
     ]
    }
   ],
   "source": [
    "from keras.callbacks import TensorBoard\n",
    "\n",
    "history = autoencoder.fit(x_train, x_train,\n",
    "                epochs=20,\n",
    "                batch_size=128,\n",
    "                shuffle=True,\n",
    "                validation_data=(x_test, x_test))"
   ]
  },
  {
   "cell_type": "code",
   "execution_count": 4,
   "metadata": {},
   "outputs": [
    {
     "data": {
      "text/plain": [
       "[0, 20, 0.09, 0.3]"
      ]
     },
     "execution_count": 4,
     "metadata": {},
     "output_type": "execute_result"
    },
    {
     "data": {
      "image/png": "[encoded data removed]",
      "text/plain": [
       "<Figure size 576x576 with 1 Axes>"
      ]
     },
     "metadata": {
      "needs_background": "light"
     },
     "output_type": "display_data"
    }
   ],
   "source": [
    "import pandas as pd\n",
    "import matplotlib.pyplot as plt\n",
    "\n",
    "pd.DataFrame(history.history).plot(figsize=(8, 8))\n",
    "plt.axis([0, 20, 0.09, 0.3])"
   ]
  },
  {
   "cell_type": "code",
   "execution_count": null,
   "metadata": {},
   "outputs": [],
   "source": []
  }
 ],
 "metadata": {
  "kernelspec": {
   "display_name": "Python 3",
   "language": "python",
   "name": "python3"
  },
  "language_info": {
   "codemirror_mode": {
    "name": "ipython",
    "version": 3
   },
   "file_extension": ".py",
   "mimetype": "text/x-python",
   "name": "python",
   "nbconvert_exporter": "python",
   "pygments_lexer": "ipython3",
   "version": "3.7.6"
  },
  "toc": {
   "base_numbering": 1,
   "nav_menu": {},
   "number_sections": true,
   "sideBar": true,
   "skip_h1_title": false,
   "title_cell": "Table of Contents",
   "title_sidebar": "Contents",
   "toc_cell": false,
   "toc_position": {},
   "toc_section_display": true,
   "toc_window_display": false
  }
 },
 "nbformat": 4,
 "nbformat_minor": 4
}
